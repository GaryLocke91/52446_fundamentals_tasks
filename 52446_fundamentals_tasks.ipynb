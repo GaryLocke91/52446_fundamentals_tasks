{
 "cells": [
  {
   "cell_type": "markdown",
   "metadata": {},
   "source": [
    "# Tasks\n",
    "***\n",
    "These are my solutions to the Tasks assessment. The author is Gary Locke (G00387882@gmit.ie)."
   ]
  },
  {
   "cell_type": "markdown",
   "metadata": {},
   "source": [
    "### Task 1\n",
    "***\n",
    "*Write a Python function called **counts** that takes a list as input and returns a dictionary of unique items in the list as keys and the number of times each item appears as values. So, the input ```['A', 'A', 'B', 'C', 'A']``` should have output ```{'A': 3, 'B': 1, 'C': 1}```. Your code should not depend on any module from the standard library or otherwise. You should research the task first and include a description with references of your algorithm in the notebook.*"
   ]
  },
  {
   "cell_type": "markdown",
   "metadata": {},
   "source": [
    "#### Description\n",
    "\n",
    "Both lists and dictionaries are mutable data structures containing one or more data points, and can be nested inside a list or a dictionary. They do not have to be homogenous, so they can contain number, string and Boolean values. The primary difference between them is that lists are ordered and dictionaries are not. For example, ```list[0]``` refers to the first element in the list while ```dict[0]``` refers to the key value and returns the corresponding value. [1][2]\n",
    "\n",
    "The first step is to create an empty list and dictionary. To maintain consistency, a for loop is used to convert any string items to uppercase using the ```upper()``` function, which are then appended to the new list. [3][4] The dictionary is then populated by using a for loop to iterate over each item in the new list. [5] When iterating over each item, the ```isinstance()``` function is used to determine if the item is a list or a tuple. [6] If the item is a list or a tuple, a for loop is used to iterate over each item. If the item is not in the dictionary, the value is incremented. If otherwise, the value is set to 1.\n",
    "\n",
    "One limitation of the ```count()``` function is in relation to counting Boolean values. ```True``` is a built-in enumeration with a value of 1. Thus, the hash function sees ```True``` as ```1``` and vice versa depending on which one appears in the list first. [7]"
   ]
  },
  {
   "cell_type": "code",
   "execution_count": 9,
   "metadata": {
    "scrolled": true
   },
   "outputs": [
    {
     "name": "stdout",
     "output_type": "stream",
     "text": [
      "{True: 3, 0: 3}\n"
     ]
    }
   ],
   "source": [
    "lst = [True, 1, 0, 0, 1, False]\n",
    "\n",
    "# Define function\n",
    "def counts(lst):\n",
    "    # Create an empty list and dictionary\n",
    "    upper_lst, dict = [], {}\n",
    "    \n",
    "    # Loop through each item in the list\n",
    "    for i in lst:\n",
    "        # Check if i is a string\n",
    "        if isinstance(i, str):\n",
    "            # Convert i to uppercase\n",
    "            i = i.upper()\n",
    "            # Append i to list\n",
    "            upper_lst.append(i)\n",
    "        else:\n",
    "            # Append i to list\n",
    "            upper_lst.append(i)\n",
    "            \n",
    "    # Loop through each item in the list\n",
    "    for i in upper_lst:\n",
    "        # Check if i is a list\n",
    "        if isinstance(i, (list, tuple)):\n",
    "            # Loop through each item in the list or tuple\n",
    "            for x in i:\n",
    "                # Increment value if already in the dictionary\n",
    "                if x in dict:\n",
    "                    dict[x] += 1\n",
    "                # Set the value as 1 if not in the dictionary\n",
    "                else:\n",
    "                    dict[x] = 1        \n",
    "        # Increment value if already in the dictionary\n",
    "        elif i in dict:\n",
    "            dict[i] += 1\n",
    "        # Set the value as 1 if not in the dictionary\n",
    "        else:\n",
    "            dict[i] = 1\n",
    "    \n",
    "    # Return the dictionary\n",
    "    return dict\n",
    "\n",
    "print(counts(lst))"
   ]
  },
  {
   "cell_type": "markdown",
   "metadata": {},
   "source": [
    "#### References\n",
    "\n",
    "[1] Dictionaries in Python: https://realpython.com/python-dicts/\n",
    "\n",
    "[2] Data structures: https://docs.python.org/3/tutorial/datastructures.html\n",
    "\n",
    "[3] Check if a variable is string: https://www.geeksforgeeks.org/python-check-if-a-variable-is-string/\n",
    "\n",
    "[4] Convert a string to all uppercase: https://www.w3resource.com/python-exercises/string/python-data-type-string-exercise-21.php\n",
    "\n",
    "[5] Using a dictionary to count the items in a list: https://stackoverflow.com/questions/3496518/using-a-dictionary-to-count-the-items-in-a-list\n",
    "\n",
    "[6] Python isinstance() explained with examples: https://pynative.com/python-isinstance-explained-with-examples/\n",
    "\n",
    "[7] Boolean keys with other data types in dictionary: https://stackoverflow.com/questions/44185741/boolean-keys-with-other-data-types-in-dictionary\n",
    "\n",
    "***"
   ]
  },
  {
   "cell_type": "markdown",
   "metadata": {},
   "source": [
    "<br>\n",
    "\n",
    "### Task 2\n",
    "***\n",
    "*Write a Python function called **dicerolls** that simulates rolling dice. Your function should take two parameters: the number of dice k and the number of times to roll the dice n. The function should simulate randomly rolling k dice n times, keeping track of each total face value. It should then return a dictionary with the number of times each possible total face value occurred. So, calling the function as diceroll(k=2, n=1000) should return a dictionary like:*\n",
    "\n",
    "```{2:19,3:50,4:82,5:112,6:135,7:174,8:133,9:114,10:75,11:70,12:36}```\n",
    "\n",
    "*You can use any module from the Python standard library you wish and you should include a description with references of your algorithm in the notebook.*"
   ]
  },
  {
   "cell_type": "markdown",
   "metadata": {},
   "source": [
    "#### Description"
   ]
  },
  {
   "cell_type": "code",
   "execution_count": 23,
   "metadata": {},
   "outputs": [
    {
     "name": "stdout",
     "output_type": "stream",
     "text": [
      "947 240\n"
     ]
    }
   ],
   "source": [
    "import numpy as np\n",
    "\n",
    "rng = np.random.default_rng()\n",
    "k, n = rng.integers(1, 1000), rng.integers(1, 1000)\n",
    "print(k, n)"
   ]
  },
  {
   "cell_type": "code",
   "execution_count": 24,
   "metadata": {},
   "outputs": [],
   "source": [
    "def dicerolls(k, n):"
   ]
  }
 ],
 "metadata": {
  "kernelspec": {
   "display_name": "Python 3",
   "language": "python",
   "name": "python3"
  },
  "language_info": {
   "codemirror_mode": {
    "name": "ipython",
    "version": 3
   },
   "file_extension": ".py",
   "mimetype": "text/x-python",
   "name": "python",
   "nbconvert_exporter": "python",
   "pygments_lexer": "ipython3",
   "version": "3.8.3"
  }
 },
 "nbformat": 4,
 "nbformat_minor": 4
}

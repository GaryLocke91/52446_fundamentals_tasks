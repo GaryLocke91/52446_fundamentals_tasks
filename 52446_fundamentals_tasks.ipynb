{
 "cells": [
  {
   "cell_type": "markdown",
   "metadata": {},
   "source": [
    "# Tasks\n",
    "***\n",
    "These are my solutions to the Tasks assessment. The author is Gary Locke (G00387882@gmit.ie)"
   ]
  },
  {
   "cell_type": "markdown",
   "metadata": {},
   "source": [
    "### Task 1\n",
    "\n",
    "*Write a Python function called **counts** that takes a list as input and returns a dictionary of unique items in the list as keys and the number of times each item appears as values. So, the input ['A', 'A', 'B', 'C', 'A'] should have output {'A': 3, 'B': 1, 'C': 1}. Your code should not depend on any module from the standard library or otherwise. You should research the task first and include a description with references of your algorithm in the notebook.*"
   ]
  },
  {
   "cell_type": "markdown",
   "metadata": {},
   "source": [
    "#### Description\n",
    "\n",
    "The first step is to create an empty list and dictionary. A for loop is used to convert any string items to uppercase, which are then appended to the new list. [1][2] The dictionary is then populated by using a for loop to iterate over each item in the new list. If the item is not in the dictionary, the value is incremented. If otherwise, the value is set to 1. [3] When iterating over each item, the isinstance() function is used to determine if the item is a list or a tuple. [4] "
   ]
  },
  {
   "cell_type": "code",
   "execution_count": 14,
   "metadata": {
    "scrolled": true
   },
   "outputs": [
    {
     "name": "stdout",
     "output_type": "stream",
     "text": [
      "{'A': 5, 'B': 3, 'D': 1, 'E': 2, 'C': 1, 17: 1}\n"
     ]
    }
   ],
   "source": [
    "lst = [['A', 'B', 'B', 'D'], 'A', 'A', ('E', 'E', 'A'), 'B', 'C', 'A', 17]\n",
    "\n",
    "# Define function\n",
    "def counts(lst):\n",
    "    # Create an empty list\n",
    "    upper_lst = []\n",
    "    # Creat an empty dictionary\n",
    "    dict = {}\n",
    "    \n",
    "    # Loop through each item in the list\n",
    "    for i in lst:\n",
    "        # Check if i is a string\n",
    "        if isinstance(i, str):\n",
    "            # Convert i to uppercase\n",
    "            i = i.upper()\n",
    "            # Append i to list\n",
    "            upper_lst.append(i)\n",
    "        else:\n",
    "            # Append i to list\n",
    "            upper_lst.append(i)\n",
    "            \n",
    "    # Loop through each item in the list\n",
    "    for i in upper_lst:\n",
    "        # Check if i is a list\n",
    "        if isinstance(i, (list, tuple)):\n",
    "            # Loop through each item in the list or tuple\n",
    "            for x in i:\n",
    "                # Increment value if already in the dictionary\n",
    "                if x in dict:\n",
    "                    dict[x] += 1\n",
    "                # Set the value as 1 if not in the dictionary\n",
    "                else:\n",
    "                    dict[x] = 1\n",
    "        # Increment value if already in the dictionary\n",
    "        elif i in dict:\n",
    "            dict[i] += 1\n",
    "        # Set the value as 1 if not in the dictionary\n",
    "        else:\n",
    "            dict[i] = 1\n",
    "    \n",
    "    # Return the dictionary\n",
    "    return dict\n",
    "\n",
    "print(counts(lst))"
   ]
  },
  {
   "cell_type": "markdown",
   "metadata": {},
   "source": [
    "#### References\n",
    "\n",
    "[1] https://www.geeksforgeeks.org/python-check-if-a-variable-is-string/\n",
    "\n",
    "[2] https://www.w3resource.com/python-exercises/string/python-data-type-string-exercise-21.php\n",
    "\n",
    "[3] https://stackoverflow.com/questions/3496518/using-a-dictionary-to-count-the-items-in-a-list\n",
    "\n",
    "[4] https://pynative.com/python-isinstance-explained-with-examples/\n",
    "\n",
    "[5] https://docs.python.org/3/tutorial/datastructures.html\n",
    "\n",
    "***"
   ]
  },
  {
   "cell_type": "code",
   "execution_count": null,
   "metadata": {},
   "outputs": [],
   "source": []
  }
 ],
 "metadata": {
  "kernelspec": {
   "display_name": "Python 3",
   "language": "python",
   "name": "python3"
  },
  "language_info": {
   "codemirror_mode": {
    "name": "ipython",
    "version": 3
   },
   "file_extension": ".py",
   "mimetype": "text/x-python",
   "name": "python",
   "nbconvert_exporter": "python",
   "pygments_lexer": "ipython3",
   "version": "3.8.3"
  }
 },
 "nbformat": 4,
 "nbformat_minor": 4
}

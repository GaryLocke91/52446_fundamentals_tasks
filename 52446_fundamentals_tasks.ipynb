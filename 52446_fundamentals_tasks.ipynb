{
 "cells": [
  {
   "cell_type": "markdown",
   "metadata": {},
   "source": [
    "# Tasks\n",
    "***"
   ]
  },
  {
   "cell_type": "markdown",
   "metadata": {},
   "source": [
    "### Task 1\n",
    "***\n",
    "*Write a Python function called **counts** that takes a list as input and returns a dictionary of unique items in the list as keys and the number of times each item appears as values. So, the input ```['A', 'A', 'B', 'C', 'A']``` should have output ```{'A': 3, 'B': 1, 'C': 1}```. Your code should not depend on any module from the standard library or otherwise. You should research the task first and include a description with references of your algorithm in the notebook.*"
   ]
  },
  {
   "cell_type": "markdown",
   "metadata": {},
   "source": [
    "#### Description\n",
    "\n",
    "Both lists and dictionaries are mutable data structures containing one or more data points, and can be nested inside a list or a dictionary. They do not have to be homogenous, so they can contain number, string and Boolean values. The primary difference between them is that lists are ordered and dictionaries are not. For example, ```list[0]``` refers to the first element in the list while ```dict[0]``` refers to the key value and returns the corresponding value.<SUP>1</SUP> <SUP>2</SUP>\n",
    "\n",
    "The first step is to create an empty list and dictionary. To maintain consistency, a for loop is used to convert any string items to uppercase using the ```upper()``` function, which are then appended to the new list.<SUP>3</SUP> <SUP>4</SUP> The dictionary is then populated by using a for loop to iterate over each item in the new list.<SUP>5</SUP> When iterating over each item, the ```isinstance()``` function is used to determine if the item is a list or a tuple.<SUP>6</SUP> If the item is a list or a tuple, a for loop is used to iterate over each item. If the item is not in the dictionary, the value is incremented. If otherwise, the value is set to 1.\n",
    "\n",
    "One limitation of the ```count()``` function is in relation to counting Boolean values. ```True``` is a built-in enumeration with a value of 1. Thus, the hash function sees ```True``` as ```1``` and vice versa depending on which one appears in the list first.<SUP>7</SUP>"
   ]
  },
  {
   "cell_type": "code",
   "execution_count": 22,
   "metadata": {},
   "outputs": [],
   "source": [
    "# Create a list\n",
    "lst = ['A', 'A', 'B', 'C', 'A']"
   ]
  },
  {
   "cell_type": "code",
   "execution_count": 23,
   "metadata": {
    "scrolled": true
   },
   "outputs": [],
   "source": [
    "# Define the function\n",
    "def counts(lst):\n",
    "    # Create an empty list and dictionary\n",
    "    upper_lst, dict = [], {}\n",
    "    \n",
    "    # Loop through each item in the list\n",
    "    for i in lst:\n",
    "        # Check if i is a string\n",
    "        if isinstance(i, str):\n",
    "            # Convert i to uppercase\n",
    "            i = i.upper()\n",
    "            # Append i to list\n",
    "            upper_lst.append(i)\n",
    "        else:\n",
    "            # Append i to list\n",
    "            upper_lst.append(i)\n",
    "            \n",
    "    # Loop through each item in the list\n",
    "    for i in upper_lst:\n",
    "        # Check if i is a list\n",
    "        if isinstance(i, (list, tuple)):\n",
    "            # Loop through each item in the list or tuple\n",
    "            for x in i:\n",
    "                # Increment value if already in the dictionary\n",
    "                if x in dict:\n",
    "                    dict[x] += 1\n",
    "                # Set the value as 1 if not in the dictionary\n",
    "                else:\n",
    "                    dict[x] = 1        \n",
    "        # Increment value if already in the dictionary\n",
    "        elif i in dict:\n",
    "            dict[i] += 1\n",
    "        # Set the value as 1 if not in the dictionary\n",
    "        else:\n",
    "            dict[i] = 1\n",
    "    \n",
    "    # Return the dictionary\n",
    "    return dict"
   ]
  },
  {
   "cell_type": "code",
   "execution_count": 24,
   "metadata": {},
   "outputs": [
    {
     "data": {
      "text/plain": [
       "{'A': 3, 'B': 1, 'C': 1}"
      ]
     },
     "execution_count": 24,
     "metadata": {},
     "output_type": "execute_result"
    }
   ],
   "source": [
    "# Call the function\n",
    "counts(lst)"
   ]
  },
  {
   "cell_type": "markdown",
   "metadata": {},
   "source": [
    "#### References\n",
    "\n",
    "1. Real Python, *Dictionaries in Python* [online] Available at: https://realpython.com/python-dicts/\n",
    "\n",
    "2. Python, *Data structures* [online] Available at: https://docs.python.org/3/tutorial/datastructures.html\n",
    "\n",
    "3. GeeksforGeeks, *Check if a variable is string* [online] Available at: https://www.geeksforgeeks.org/python-check-if-a-variable-is-string/\n",
    "\n",
    "4. w3resource, *Convert a string to all uppercase* [online] Available at: https://www.w3resource.com/python-exercises/string/python-data-type-string-exercise-21.php\n",
    "\n",
    "5. Stack Overflow, *Using a dictionary to count the items in a list* [online] Available at: https://stackoverflow.com/questions/3496518/using-a-dictionary-to-count-the-items-in-a-list\n",
    "\n",
    "6. PYnative, *Python isinstance() explained with examples* [online] Available at: https://pynative.com/python-isinstance-explained-with-examples/\n",
    "\n",
    "7. Stack Overflow, *Boolean keys with other data types in dictionary* [online] Available at: https://stackoverflow.com/questions/44185741/boolean-keys-with-other-data-types-in-dictionary"
   ]
  },
  {
   "cell_type": "markdown",
   "metadata": {},
   "source": [
    "<br>\n",
    "\n",
    "### Task 2\n",
    "***\n",
    "*Write a Python function called **dicerolls** that simulates rolling dice. Your function should take two parameters: the number of dice k and the number of times to roll the dice n. The function should simulate randomly rolling k dice n times, keeping track of each total face value. It should then return a dictionary with the number of times each possible total face value occurred. So, calling the function as diceroll(k=2, n=1000) should return a dictionary like:*\n",
    "\n",
    "```{2:19,3:50,4:82,5:112,6:135,7:174,8:133,9:114,10:75,11:70,12:36}```\n",
    "\n",
    "*You can use any module from the Python standard library you wish and you should include a description with references of your algorithm in the notebook.*"
   ]
  },
  {
   "cell_type": "markdown",
   "metadata": {},
   "source": [
    "#### Description\n",
    "\n",
    "The first step is to import any required libraries. The NumPy library is required to generate pseudorandom numbers using the ```numpy.random``` package."
   ]
  },
  {
   "cell_type": "code",
   "execution_count": null,
   "metadata": {},
   "outputs": [],
   "source": [
    "# Import the NumPy library\n",
    "import numpy as np"
   ]
  },
  {
   "cell_type": "markdown",
   "metadata": {},
   "source": [
    "The ```default_rng()``` function below constructs a new Generator. It takes one parameter, which creates a seed to initialise the BitGenerator. If no seed is passed, then fresh, unpredictable entropy will be pulled from the OS.<SUP>1</SUP> The ```integers()``` function is used to assign a random integer to the two variables, which are to be used as parameters by the ```dicerolls()``` function. It returns random integers from *low* (inclusive) to *high* (exclusive), or if ```endpoint=True```, *low* (inclusive) to *high* (inclusive).<SUP>2</SUP>"
   ]
  },
  {
   "cell_type": "code",
   "execution_count": 28,
   "metadata": {},
   "outputs": [
    {
     "name": "stdout",
     "output_type": "stream",
     "text": [
      "Number of dice:  8 \n",
      "Number of rolls:  916\n"
     ]
    }
   ],
   "source": [
    "# Construct a new Generator\n",
    "rng = np.random.default_rng()\n",
    "# Assign a random integer to the \"k\" and \"n\" variables\n",
    "k, n = rng.integers(1, 10, endpoint=True), rng.integers(1, 1000, endpoint=True)\n",
    "# Print the number of dice and number of rolls\n",
    "print(\"Number of dice: \", k, \"\\nNumber of rolls: \", n)"
   ]
  },
  {
   "cell_type": "markdown",
   "metadata": {},
   "source": [
    "In defining the function, an empty dictionary called ```face_vals``` is created, which will store the number of times each possible total face value occurred. As the range of face values is dependent on the number of dice, the value of *k* is stored as the lowest possible value in variable ```range_low``` (e.g. if three dice are thrown, then three is the lowest possible face value). As there are six numbers on a dice, the highest possible value would be 6 multiplied by the number of dice thrown. This value is stored in the variable ```range_high```.\n",
    "\n",
    "The next step is to loop through the number of dice used using the ```range()``` function. Within this loop, another for loop is used to iterate through each roll. The ```integers()``` function is used to generate a random number between the lowest and highest possible values and store it in variable ```x```. As ```endpoint=True```, the value of ```range_high``` is inclusive. An *if* and *else* statement is used to check whether the face value is already in the dictionary. If it is, the value is incremented. Otherwise, its value is set to 1.\n",
    "\n",
    "Once the dictionary has been populated, the ```sorted()``` function is used to sort the dictionary by key. The ```face_vals.items()``` method returns a list of tuples comprising the keys and their corresponding value. The ```lambda``` function returnes the key for a specific item tuple.<SUP>3</SUP>"
   ]
  },
  {
   "cell_type": "code",
   "execution_count": 26,
   "metadata": {},
   "outputs": [],
   "source": [
    "# Define function\n",
    "def dicerolls(k, n):\n",
    "    # Create an empty dictionary\n",
    "    face_vals = {}\n",
    "    # Set the value of \"k\" as the lowest possible face value\n",
    "    range_low = k\n",
    "    # Set the value of \"k\" multiplied by 6 as the highest possible face value\n",
    "    range_high = k*6\n",
    "    # Loop through each dice\n",
    "    for dice in range(k):\n",
    "        # Loop through each roll\n",
    "        for roll in range(n):\n",
    "            # Generate a random integer and store it in a variable\n",
    "            x = rng.integers(range_low, range_high, endpoint=True)\n",
    "            # Increment value if already in the dictionary\n",
    "            if x in face_vals:\n",
    "                face_vals[x] += 1\n",
    "            # Set the value as 1 if not in the dictionary    \n",
    "            else:\n",
    "                face_vals[x] = 1   \n",
    "    \n",
    "    # Return a sorted dictionary\n",
    "    return dict(sorted(face_vals.items(), key=lambda x: x[0]))"
   ]
  },
  {
   "cell_type": "markdown",
   "metadata": {},
   "source": [
    "When calling the ```dicerolls()``` function, it returns a sorted dictionary."
   ]
  },
  {
   "cell_type": "code",
   "execution_count": 27,
   "metadata": {},
   "outputs": [
    {
     "data": {
      "text/plain": [
       "{2: 10,\n",
       " 3: 17,\n",
       " 4: 22,\n",
       " 5: 13,\n",
       " 6: 25,\n",
       " 7: 19,\n",
       " 8: 15,\n",
       " 9: 29,\n",
       " 10: 17,\n",
       " 11: 15,\n",
       " 12: 18}"
      ]
     },
     "execution_count": 27,
     "metadata": {},
     "output_type": "execute_result"
    }
   ],
   "source": [
    "# Call the function\n",
    "dicerolls(k, n)"
   ]
  },
  {
   "cell_type": "markdown",
   "metadata": {},
   "source": [
    "#### References\n",
    "\n",
    "1. NumPy, *Generator* [online] Available at: https://numpy.org/doc/stable/reference/random/generator.html\n",
    "2. Numpy, *numpy.random.Generator.integers* [online] Available at: https://numpy.org/doc/stable/reference/random/generated/numpy.random.Generator.integers.html\n",
    "\n",
    "3. JournalDev, *Sorting a dictionary* [online] Available at: https://www.journaldev.com/38407/sort-a-dictionary-in-python"
   ]
  },
  {
   "cell_type": "markdown",
   "metadata": {},
   "source": [
    "<br>\n",
    "\n",
    "### Task 3\n",
    "***\n",
    "*The ```numpy.random.binomial``` function can be used to simulate flipping a coin with a 50/50 chance of heads or tails. Interestingly, if a coin is flipped many times then the number of heads is well approximated by a bell-shaped curve. For instance, if we flip a coin 100 times in a row the chance of getting 50 heads is relatively high, the chances of getting 0 or 100 heads is relatively low, and the chances of getting any other number of heads decreases as you move away from 50 in either direction towards 0 or 100. Write some python code that simulates flipping a coin 100 times. Then run this code 1,000 times, keeping track of the number of heads in each of the 1,000 simulations. Select an appropriate plot to depict the resulting list of 1,000 numbers, showing that it roughly follows a bell-shaped curve. You should explain your work in a Markdown cell above the code.*"
   ]
  },
  {
   "cell_type": "markdown",
   "metadata": {},
   "source": [
    "#### Description\n",
    "\n",
    "The first step is to import the required libraries.   "
   ]
  },
  {
   "cell_type": "code",
   "execution_count": 39,
   "metadata": {},
   "outputs": [],
   "source": [
    "# Import the required libraries\n",
    "import numpy as np\n",
    "import seaborn as sns\n",
    "import matplotlib.pyplot as plt"
   ]
  },
  {
   "cell_type": "markdown",
   "metadata": {},
   "source": [
    "The ```default_rng()``` function below constructs a new Generator. It takes one parameter, which creates a seed to initialise the BitGenerator. If no seed is passed, then fresh, unpredictable entropy will be pulled from the OS.<SUP>1</SUP>"
   ]
  },
  {
   "cell_type": "code",
   "execution_count": 7,
   "metadata": {},
   "outputs": [],
   "source": [
    "# Construct a new Generator\n",
    "rng = np.random.default_rng()"
   ]
  },
  {
   "cell_type": "markdown",
   "metadata": {},
   "source": [
    "A function is defined to simulate flipping a coin 100 times. A variable is created to keep track of the number of \"head\" results and is initially set to 0. The ```numpy.random.binomial``` function draws samples from a binomial distribution. It takes two parameters: *n* trials and *p* probability of success where *n* is an integer $>= 0$ and *p* is in the interval [0,1].<SUP>2</SUP> In this case, ```n= 1``` and ```p= 0.5``` as there is a constant 50% chance of one flip landing on heads. The trials are independent, meaning that getting heads on one trial does not affect whether the result is heads on other trials.<SUP>3</SUP> If that is the case, the ```heads``` variable is incremented. The function then returns the final count.    "
   ]
  },
  {
   "cell_type": "code",
   "execution_count": 33,
   "metadata": {},
   "outputs": [],
   "source": [
    "# Define a function that flips a coin 100 times\n",
    "def flips_100():\n",
    "    # Create a variable to keep track of the number of heads\n",
    "    heads = 0\n",
    "    # Loop through 100 flips\n",
    "    for i in range(100):\n",
    "        # Return a value from 1 trial with 50% probability\n",
    "        coin_flip = rng.binomial(1, 0.5)\n",
    "        # Increment the count if the roll is equal to 1 (i.e. heads)\n",
    "        if coin_flip == 1:\n",
    "            heads += 1\n",
    "    # Return the final count\n",
    "    return heads"
   ]
  },
  {
   "cell_type": "markdown",
   "metadata": {},
   "source": [
    "The next step is to run this function 1000 times. An empty list is first created. This will be then populated as a *for* loop is used to run the ```flips_100()``` function 100 times and appends each result to the list."
   ]
  },
  {
   "cell_type": "code",
   "execution_count": 35,
   "metadata": {},
   "outputs": [],
   "source": [
    "# Create an empty list\n",
    "head_count = []\n",
    "# Run the defined function 1000 times\n",
    "for i in range(1000):\n",
    "    x = flips_100()\n",
    "    # Append the result to the list\n",
    "    head_count.append(x)    "
   ]
  },
  {
   "cell_type": "markdown",
   "metadata": {},
   "source": [
    "The code below prints out all 1000 results."
   ]
  },
  {
   "cell_type": "code",
   "execution_count": 36,
   "metadata": {},
   "outputs": [
    {
     "name": "stdout",
     "output_type": "stream",
     "text": [
      "[48, 41, 50, 51, 46, 47, 43, 46, 41, 42, 53, 46, 52, 43, 38, 53, 48, 44, 63, 48, 56, 53, 53, 55, 54, 59, 49, 52, 47, 55, 54, 48, 57, 38, 48, 55, 45, 51, 42, 50, 47, 53, 52, 56, 52, 53, 54, 52, 49, 58, 54, 47, 53, 48, 62, 48, 51, 44, 46, 53, 50, 45, 51, 54, 47, 58, 48, 61, 47, 51, 52, 31, 47, 53, 47, 55, 38, 42, 41, 48, 50, 56, 50, 53, 55, 48, 51, 48, 53, 56, 51, 48, 48, 55, 52, 44, 53, 48, 47, 46, 44, 55, 49, 48, 43, 51, 54, 52, 54, 44, 49, 45, 48, 46, 53, 54, 55, 46, 43, 53, 49, 54, 49, 47, 52, 57, 46, 52, 50, 51, 56, 50, 42, 53, 45, 46, 53, 52, 49, 46, 49, 50, 47, 51, 47, 50, 59, 44, 48, 54, 55, 53, 59, 42, 52, 46, 56, 45, 50, 47, 56, 47, 45, 40, 45, 55, 51, 55, 51, 43, 47, 52, 46, 46, 49, 46, 50, 49, 53, 57, 54, 49, 49, 44, 45, 52, 48, 36, 52, 51, 51, 39, 54, 51, 44, 48, 45, 49, 47, 56, 57, 54, 47, 45, 47, 49, 57, 56, 57, 51, 50, 52, 42, 57, 48, 46, 55, 54, 42, 47, 50, 53, 46, 47, 49, 59, 49, 56, 41, 45, 54, 54, 54, 48, 43, 53, 47, 58, 60, 57, 48, 51, 57, 53, 51, 48, 53, 48, 47, 49, 49, 48, 52, 49, 47, 48, 47, 47, 52, 39, 50, 56, 44, 50, 50, 50, 52, 55, 49, 52, 50, 43, 52, 44, 42, 46, 54, 40, 55, 51, 50, 55, 52, 53, 43, 40, 45, 55, 45, 51, 51, 54, 42, 49, 54, 41, 55, 50, 49, 55, 51, 45, 55, 48, 49, 54, 50, 47, 45, 55, 50, 40, 49, 54, 54, 51, 41, 58, 49, 44, 58, 41, 52, 44, 49, 50, 44, 43, 57, 35, 45, 54, 50, 58, 44, 51, 57, 51, 47, 49, 54, 45, 50, 49, 48, 54, 58, 51, 47, 47, 47, 50, 51, 43, 50, 41, 48, 41, 54, 44, 45, 52, 44, 56, 45, 56, 59, 60, 46, 53, 50, 47, 46, 45, 50, 51, 41, 51, 46, 46, 45, 53, 50, 52, 48, 55, 55, 50, 48, 40, 44, 48, 52, 57, 40, 53, 52, 52, 40, 52, 51, 46, 61, 53, 61, 52, 57, 38, 49, 50, 52, 55, 57, 49, 51, 60, 48, 55, 52, 55, 50, 46, 52, 49, 56, 48, 57, 50, 52, 49, 46, 54, 44, 50, 45, 54, 54, 51, 51, 51, 52, 49, 52, 54, 54, 56, 49, 52, 53, 57, 54, 46, 58, 46, 42, 60, 54, 48, 46, 44, 51, 56, 60, 48, 51, 52, 46, 50, 48, 53, 47, 55, 49, 48, 53, 46, 43, 53, 56, 61, 49, 40, 53, 51, 47, 61, 45, 44, 45, 37, 51, 51, 49, 51, 60, 53, 44, 56, 50, 57, 53, 46, 53, 54, 52, 54, 40, 47, 58, 68, 47, 49, 49, 46, 43, 49, 51, 49, 48, 41, 55, 48, 46, 36, 52, 53, 52, 38, 46, 47, 50, 55, 48, 48, 49, 54, 43, 52, 55, 55, 48, 51, 48, 55, 45, 47, 55, 52, 46, 54, 59, 51, 49, 51, 45, 51, 49, 51, 47, 49, 44, 48, 46, 50, 58, 56, 44, 49, 52, 39, 52, 50, 48, 58, 44, 36, 54, 54, 51, 58, 51, 64, 51, 43, 49, 59, 50, 42, 54, 44, 53, 47, 45, 45, 52, 41, 49, 56, 54, 58, 49, 45, 57, 42, 50, 53, 53, 49, 48, 57, 55, 50, 58, 53, 51, 45, 48, 57, 54, 46, 42, 50, 59, 48, 45, 45, 41, 51, 50, 54, 57, 47, 51, 48, 49, 49, 52, 58, 44, 56, 47, 53, 49, 49, 51, 57, 50, 48, 59, 48, 50, 54, 51, 50, 56, 50, 49, 52, 50, 44, 47, 48, 48, 46, 45, 50, 56, 41, 56, 42, 53, 50, 43, 49, 41, 47, 49, 52, 48, 51, 52, 46, 47, 49, 44, 49, 56, 60, 44, 50, 58, 46, 44, 53, 40, 49, 54, 55, 55, 61, 45, 44, 54, 58, 45, 34, 58, 56, 39, 49, 51, 48, 53, 50, 51, 54, 51, 49, 48, 50, 54, 50, 51, 50, 58, 43, 55, 42, 41, 53, 53, 47, 49, 54, 58, 57, 45, 47, 52, 35, 48, 49, 48, 45, 52, 49, 48, 52, 47, 52, 50, 50, 51, 47, 46, 48, 55, 44, 52, 52, 53, 51, 50, 51, 51, 47, 52, 41, 44, 39, 60, 50, 50, 42, 43, 45, 53, 58, 44, 52, 45, 52, 55, 55, 53, 51, 52, 41, 56, 53, 52, 52, 55, 54, 46, 48, 53, 47, 53, 52, 48, 51, 53, 49, 53, 63, 52, 53, 50, 51, 50, 53, 44, 51, 49, 39, 57, 53, 47, 58, 48, 39, 46, 54, 49, 54, 51, 48, 50, 44, 53, 56, 55, 50, 50, 52, 47, 48, 59, 51, 50, 64, 47, 48, 54, 47, 51, 49, 49, 50, 56, 53, 49, 43, 58, 53, 46, 50, 48, 53, 45, 52, 59, 63, 44, 49, 47, 46, 49, 53, 55, 47, 49, 50, 46, 49, 49, 54, 56, 49, 44, 39, 51, 59, 51, 45, 53, 44, 47, 57, 49, 46, 57, 53, 48, 59, 45, 63, 46, 48, 53, 42, 39, 43, 50, 59, 50, 46, 54, 48, 48, 44, 50, 48, 45, 53, 48, 48, 54, 54, 49, 51, 47, 51, 57, 50, 48, 57, 47, 57, 47, 42, 52, 40, 54, 48, 45, 57, 56, 48, 48, 51, 43, 45, 43, 50, 51, 49, 40, 51, 48, 55, 50, 52, 57, 45, 52, 49, 40, 48, 53, 44, 45, 52, 51, 53, 47, 53, 44, 41, 49, 47, 48, 49, 58, 50, 50, 44, 43, 47, 49, 47, 49, 49, 53, 44, 46, 49, 56, 57, 59, 49, 56, 48, 50, 44, 43, 49, 53, 47]\n"
     ]
    }
   ],
   "source": [
    "# Print the populated list\n",
    "print(head_count)"
   ]
  },
  {
   "cell_type": "code",
   "execution_count": 41,
   "metadata": {},
   "outputs": [
    {
     "data": {
      "image/png": "[encoded data removed]",
      "text/plain": [
       "<Figure size 432x288 with 1 Axes>"
      ]
     },
     "metadata": {
      "needs_background": "light"
     },
     "output_type": "display_data"
    }
   ],
   "source": [
    "# Plot the list\n",
    "sns.distplot(head_count)\n",
    "plt.xlabel(\"X\")\n",
    "plt.ylabel(\"Probability\")\n",
    "plt.title(\"Binomial Distribution\")\n",
    "plt.grid()"
   ]
  },
  {
   "cell_type": "markdown",
   "metadata": {},
   "source": [
    "### References\n",
    "\n",
    "1. NumPy, *Generator* [online] Available at: https://numpy.org/doc/stable/reference/random/generator.html\n",
    "2. Numpy, *numpy.random.binomial* [online] Available at: https://numpy.org/doc/stable/reference/random/generated/numpy.random.binomial.html\n",
    "3. Stat Trek, *Binomial Probability Distribution* [online] Available at: https://stattrek.com/probability-distributions/binomial.aspx"
   ]
  }
 ],
 "metadata": {
  "kernelspec": {
   "display_name": "Python 3",
   "language": "python",
   "name": "python3"
  },
  "language_info": {
   "codemirror_mode": {
    "name": "ipython",
    "version": 3
   },
   "file_extension": ".py",
   "mimetype": "text/x-python",
   "name": "python",
   "nbconvert_exporter": "python",
   "pygments_lexer": "ipython3",
   "version": "3.8.3"
  }
 },
 "nbformat": 4,
 "nbformat_minor": 4
}

{
 "cells": [
  {
   "cell_type": "markdown",
   "metadata": {},
   "source": [
    "# Tasks\n",
    "***\n",
    "These are my solutions to the Tasks assessment. The author is Gary Locke (G00387882@gmit.ie)"
   ]
  },
  {
   "cell_type": "markdown",
   "metadata": {},
   "source": [
    "### Task 1\n",
    "\n",
    "*Write a Python function called **counts** that takes a list as input and returns a dictionary of unique items in the list as keys and the number of times each item appears as values. So, the input ['A', 'A', 'B', 'C', 'A'] should have output {'A': 3, 'B': 1, 'C': 1}. Your code should not depend on any module from the standard library or otherwise. You should research the task first and include a description with references of your algorithm in the notebook.*"
   ]
  },
  {
   "cell_type": "markdown",
   "metadata": {},
   "source": [
    "#### Description\n",
    "\n",
    "The first step is to create an empty dictionary. This is then populated by using a for loop to iterate over each item. If the item is not in the dictionary, the value is incremented. If otherwise, the value is set to 1. [1]"
   ]
  },
  {
   "cell_type": "code",
   "execution_count": 1,
   "metadata": {
    "scrolled": true
   },
   "outputs": [
    {
     "name": "stdout",
     "output_type": "stream",
     "text": [
      "{'A': 3, 'B': 1, 'C': 1}\n"
     ]
    }
   ],
   "source": [
    "lst = ['A', 'A', 'B', 'C', 'A']\n",
    "\n",
    "# Define function\n",
    "def counts(lst):\n",
    "    # Create an empty dictionary\n",
    "    dict = {}\n",
    "    # Loop through each item in the list\n",
    "    for i in lst:\n",
    "        # Increment value if already in the dictionary\n",
    "        if i in dict:\n",
    "            dict[i] += 1\n",
    "        # Set the value as 1 if not in the dictionary\n",
    "        else:\n",
    "            dict[i] = 1\n",
    "    # Return the dictionary\n",
    "    return dict\n",
    "\n",
    "print(counts(lst))"
   ]
  },
  {
   "cell_type": "markdown",
   "metadata": {},
   "source": [
    "#### References\n",
    "\n",
    "[1] https://stackoverflow.com/questions/3496518/using-a-dictionary-to-count-the-items-in-a-list\n",
    "\n",
    "***"
   ]
  }
 ],
 "metadata": {
  "kernelspec": {
   "display_name": "Python 3",
   "language": "python",
   "name": "python3"
  },
  "language_info": {
   "codemirror_mode": {
    "name": "ipython",
    "version": 3
   },
   "file_extension": ".py",
   "mimetype": "text/x-python",
   "name": "python",
   "nbconvert_exporter": "python",
   "pygments_lexer": "ipython3",
   "version": "3.8.3"
  }
 },
 "nbformat": 4,
 "nbformat_minor": 4
}

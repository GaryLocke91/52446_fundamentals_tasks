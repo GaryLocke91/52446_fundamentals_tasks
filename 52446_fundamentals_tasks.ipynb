{
 "cells": [
  {
   "cell_type": "markdown",
   "metadata": {},
   "source": [
    "# Tasks\n",
    "***"
   ]
  },
  {
   "cell_type": "markdown",
   "metadata": {},
   "source": [
    "### Task 1\n",
    "***\n",
    "*Write a Python function called **counts** that takes a list as input and returns a dictionary of unique items in the list as keys and the number of times each item appears as values. So, the input ```['A', 'A', 'B', 'C', 'A']``` should have output ```{'A': 3, 'B': 1, 'C': 1}```. Your code should not depend on any module from the standard library or otherwise. You should research the task first and include a description with references of your algorithm in the notebook.*"
   ]
  },
  {
   "cell_type": "markdown",
   "metadata": {},
   "source": [
    "#### Description\n",
    "\n",
    "Both lists and dictionaries are mutable data structures containing one or more data points, and can be nested inside a list or a dictionary. They do not have to be homogenous, so they can contain number, string and Boolean values. The primary difference between them is that lists are ordered and dictionaries are not. For example, ```list[0]``` refers to the first element in the list while ```dict[0]``` refers to the key value and returns the corresponding value.<SUP>1</SUP> <SUP>2</SUP>\n",
    "\n",
    "The first step is to create an empty list and dictionary. A list of special characters to exclude from a string is also created. To maintain consistency, a *for* loop is used to convert any string items to uppercase using the ```upper()``` method.<SUP>3</SUP> <SUP>4</SUP> Once converted, the items are then appended to the new list after special characters are removed using the ```replace()``` function.<SUP>5</SUP> The dictionary is then populated by using a *for* loop to iterate over each item in the new list.<SUP>6</SUP> When iterating over each item, the ```isinstance()``` function is used to determine if the item is a list or a tuple.<SUP>7</SUP> If the item is a list or a tuple, a *for* loop is used to iterate over each item. If the item is not in the dictionary, the value is incremented. If otherwise, the value is set to 1.\n",
    "\n",
    "One limitation of the ```count()``` function is in relation to counting Boolean values. ```True``` is a built-in enumeration with a value of 1. Thus, the hash function sees ```True``` as ```1``` and vice versa depending on which one appears in the list first.<SUP>8</SUP>"
   ]
  },
  {
   "cell_type": "code",
   "execution_count": 81,
   "metadata": {},
   "outputs": [],
   "source": [
    "# Create a list\n",
    "lst = ['A', 'A', 'B', 'C', 'A']"
   ]
  },
  {
   "cell_type": "code",
   "execution_count": 82,
   "metadata": {
    "scrolled": true
   },
   "outputs": [],
   "source": [
    "# Define the function\n",
    "def counts(lst):\n",
    "    # Create an empty list and dictionary\n",
    "    new_lst, dict = [], {}\n",
    "    bad_chars = [\".\", \",\", \"_\", \"\\\"\", \"'\", \"-\", \"+\", \"=\", \"@\", \"$\", \"?\", \"~\", \"#\", \"%\", \"|\", \"\\\\\", \"/\", \"!\", \"*\", \":\", \";\", \"<\", \">\", \"&\", \"^\"]\n",
    "    \n",
    "    # Loop through each item in the list\n",
    "    for i in lst:\n",
    "        # Check if i is a string\n",
    "        if isinstance(i, str):\n",
    "            # Convert i to uppercase\n",
    "            i = i.upper()\n",
    "            # Remove special characters\n",
    "            for char in i:\n",
    "                if char in bad_chars:\n",
    "                    i = i.replace(char, \"\")\n",
    "            # Append the string to the new list\n",
    "            new_lst.append(i)\n",
    "        else:\n",
    "            # Append i to list\n",
    "            new_lst.append(i)\n",
    "            \n",
    "    # Loop through each item in the list\n",
    "    for k in new_lst:\n",
    "        # Check if k is a list\n",
    "        if isinstance(k, (list, tuple)):\n",
    "            # Loop through each item in the list or tuple\n",
    "            for x in k:\n",
    "                # Increment value if already in the dictionary\n",
    "                if x in dict:\n",
    "                    dict[x] += 1\n",
    "                # Set the value as 1 if not in the dictionary\n",
    "                else:\n",
    "                    dict[x] = 1        \n",
    "        # Increment value if already in the dictionary\n",
    "        elif k in dict:\n",
    "            dict[k] += 1\n",
    "        # Set the value as 1 if not in the dictionary\n",
    "        else:\n",
    "            dict[k] = 1\n",
    "    \n",
    "    # Return the dictionary\n",
    "    return dict"
   ]
  },
  {
   "cell_type": "code",
   "execution_count": 83,
   "metadata": {},
   "outputs": [
    {
     "data": {
      "text/plain": [
       "{'A': 3, 'B': 1, 'C': 1}"
      ]
     },
     "execution_count": 83,
     "metadata": {},
     "output_type": "execute_result"
    }
   ],
   "source": [
    "# Call the function\n",
    "counts(lst)"
   ]
  },
  {
   "cell_type": "markdown",
   "metadata": {},
   "source": [
    "#### References\n",
    "\n",
    "1. Real Python, *Dictionaries in Python* [online] Available at: https://realpython.com/python-dicts/\n",
    "\n",
    "2. Python, *Data structures* [online] Available at: https://docs.python.org/3/tutorial/datastructures.html\n",
    "\n",
    "3. GeeksforGeeks, *Check if a variable is string* [online] Available at: https://www.geeksforgeeks.org/python-check-if-a-variable-is-string/\n",
    "\n",
    "4. w3resource, *Convert a string to all uppercase* [online] Available at: https://www.w3resource.com/python-exercises/string/python-data-type-string-exercise-21.php\n",
    "\n",
    "5. w3schools, *Python String replace() Method* [online] Available at: https://www.w3schools.com/python/ref_string_replace.asp\n",
    "\n",
    "6. Stack Overflow, *Using a dictionary to count the items in a list* [online] Available at: https://stackoverflow.com/questions/3496518/using-a-dictionary-to-count-the-items-in-a-list\n",
    "\n",
    "7. PYnative, *Python isinstance() explained with examples* [online] Available at: https://pynative.com/python-isinstance-explained-with-examples/\n",
    "\n",
    "8. Stack Overflow, *Boolean keys with other data types in dictionary* [online] Available at: https://stackoverflow.com/questions/44185741/boolean-keys-with-other-data-types-in-dictionary"
   ]
  },
  {
   "cell_type": "markdown",
   "metadata": {},
   "source": [
    "<br>\n",
    "\n",
    "### Task 2\n",
    "***\n",
    "*Write a Python function called **dicerolls** that simulates rolling dice. Your function should take two parameters: the number of dice k and the number of times to roll the dice n. The function should simulate randomly rolling k dice n times, keeping track of each total face value. It should then return a dictionary with the number of times each possible total face value occurred. So, calling the function as diceroll(k=2, n=1000) should return a dictionary like:*\n",
    "\n",
    "```{2:19,3:50,4:82,5:112,6:135,7:174,8:133,9:114,10:75,11:70,12:36}```\n",
    "\n",
    "*You can use any module from the Python standard library you wish and you should include a description with references of your algorithm in the notebook.*"
   ]
  },
  {
   "cell_type": "markdown",
   "metadata": {},
   "source": [
    "#### Description\n",
    "\n",
    "The first step is to import any required libraries. The NumPy library is required to generate pseudorandom numbers using the ```numpy.random``` package."
   ]
  },
  {
   "cell_type": "code",
   "execution_count": null,
   "metadata": {},
   "outputs": [],
   "source": [
    "# Import the NumPy library\n",
    "import numpy as np"
   ]
  },
  {
   "cell_type": "markdown",
   "metadata": {},
   "source": [
    "The ```default_rng()``` function below constructs a new Generator. It takes one parameter, which creates a seed to initialise the BitGenerator. If no seed is passed, then fresh, unpredictable entropy will be pulled from the OS.<SUP>1</SUP> The ```integers()``` function is used to assign a random integer to the two variables, which are to be used as parameters by the ```dicerolls()``` function. It returns random integers from *low* (inclusive) to *high* (exclusive), or if ```endpoint=True```, *low* (inclusive) to *high* (inclusive).<SUP>2</SUP>"
   ]
  },
  {
   "cell_type": "code",
   "execution_count": 28,
   "metadata": {},
   "outputs": [
    {
     "name": "stdout",
     "output_type": "stream",
     "text": [
      "Number of dice:  8 \n",
      "Number of rolls:  916\n"
     ]
    }
   ],
   "source": [
    "# Construct a new Generator\n",
    "rng = np.random.default_rng()\n",
    "# Assign a random integer to the \"k\" and \"n\" variables\n",
    "k, n = rng.integers(1, 10, endpoint=True), rng.integers(1, 1000, endpoint=True)\n",
    "# Print the number of dice and number of rolls\n",
    "print(\"Number of dice: \", k, \"\\nNumber of rolls: \", n)"
   ]
  },
  {
   "cell_type": "markdown",
   "metadata": {},
   "source": [
    "In defining the function, an empty dictionary called ```face_vals``` is created, which will store the number of times each possible total face value occurred. As the range of face values is dependent on the number of dice, the value of ```k``` is stored as the lowest possible value in variable ```range_low``` (e.g. if three dice are thrown, then three is the lowest possible face value). As there are six numbers on a dice, the highest possible value would be 6 multiplied by the number of dice thrown. This value is stored in the variable ```range_high```.\n",
    "\n",
    "The next step is to loop through the number of dice used using the ```range()``` function. Within this loop, another for loop is used to iterate through each roll. The ```integers()``` function is used to generate a random number between the lowest and highest possible values and store it in variable ```x```. As ```endpoint=True```, the value of ```range_high``` is inclusive. An *if* and *else* statement is used to check whether the face value is already in the dictionary. If it is, the value is incremented. Otherwise, its value is set to 1.\n",
    "\n",
    "Once the dictionary has been populated, the ```sorted()``` function is used to sort the dictionary by key. The ```face_vals.items()``` method returns a list of tuples comprising the keys and their corresponding value. The ```lambda``` function returnes the key for a specific item tuple.<SUP>3</SUP>"
   ]
  },
  {
   "cell_type": "code",
   "execution_count": 26,
   "metadata": {},
   "outputs": [],
   "source": [
    "# Define function\n",
    "def dicerolls(k, n):\n",
    "    # Create an empty dictionary\n",
    "    face_vals = {}\n",
    "    # Set the value of \"k\" as the lowest possible face value\n",
    "    range_low = k\n",
    "    # Set the value of \"k\" multiplied by 6 as the highest possible face value\n",
    "    range_high = k*6\n",
    "    # Loop through each dice\n",
    "    for dice in range(k):\n",
    "        # Loop through each roll\n",
    "        for roll in range(n):\n",
    "            # Generate a random integer and store it in a variable\n",
    "            x = rng.integers(range_low, range_high, endpoint=True)\n",
    "            # Increment value if already in the dictionary\n",
    "            if x in face_vals:\n",
    "                face_vals[x] += 1\n",
    "            # Set the value as 1 if not in the dictionary    \n",
    "            else:\n",
    "                face_vals[x] = 1   \n",
    "    \n",
    "    # Return a sorted dictionary\n",
    "    return dict(sorted(face_vals.items(), key=lambda x: x[0]))"
   ]
  },
  {
   "cell_type": "markdown",
   "metadata": {},
   "source": [
    "When calling the ```dicerolls()``` function, it returns a sorted dictionary."
   ]
  },
  {
   "cell_type": "code",
   "execution_count": 27,
   "metadata": {},
   "outputs": [
    {
     "data": {
      "text/plain": [
       "{2: 10,\n",
       " 3: 17,\n",
       " 4: 22,\n",
       " 5: 13,\n",
       " 6: 25,\n",
       " 7: 19,\n",
       " 8: 15,\n",
       " 9: 29,\n",
       " 10: 17,\n",
       " 11: 15,\n",
       " 12: 18}"
      ]
     },
     "execution_count": 27,
     "metadata": {},
     "output_type": "execute_result"
    }
   ],
   "source": [
    "# Call the function\n",
    "dicerolls(k, n)"
   ]
  },
  {
   "cell_type": "markdown",
   "metadata": {},
   "source": [
    "#### References\n",
    "\n",
    "1. NumPy, *Generator* [online] Available at: https://numpy.org/doc/stable/reference/random/generator.html\n",
    "2. Numpy, *numpy.random.Generator.integers* [online] Available at: https://numpy.org/doc/stable/reference/random/generated/numpy.random.Generator.integers.html\n",
    "\n",
    "3. JournalDev, *Sorting a dictionary* [online] Available at: https://www.journaldev.com/38407/sort-a-dictionary-in-python"
   ]
  },
  {
   "cell_type": "markdown",
   "metadata": {},
   "source": [
    "<br>\n",
    "\n",
    "### Task 3\n",
    "***\n",
    "*The ```numpy.random.binomial``` function can be used to simulate flipping a coin with a 50/50 chance of heads or tails. Interestingly, if a coin is flipped many times then the number of heads is well approximated by a bell-shaped curve. For instance, if we flip a coin 100 times in a row the chance of getting 50 heads is relatively high, the chances of getting 0 or 100 heads is relatively low, and the chances of getting any other number of heads decreases as you move away from 50 in either direction towards 0 or 100. Write some python code that simulates flipping a coin 100 times. Then run this code 1,000 times, keeping track of the number of heads in each of the 1,000 simulations. Select an appropriate plot to depict the resulting list of 1,000 numbers, showing that it roughly follows a bell-shaped curve. You should explain your work in a Markdown cell above the code.*"
   ]
  },
  {
   "cell_type": "markdown",
   "metadata": {},
   "source": [
    "#### Description\n",
    "\n",
    "The first step is to import the required libraries.   "
   ]
  },
  {
   "cell_type": "code",
   "execution_count": 85,
   "metadata": {},
   "outputs": [],
   "source": [
    "# Import the required libraries\n",
    "import numpy as np\n",
    "import seaborn as sns\n",
    "import matplotlib.pyplot as plt"
   ]
  },
  {
   "cell_type": "markdown",
   "metadata": {},
   "source": [
    "The ```default_rng()``` function below constructs a new Generator. It takes one parameter, which creates a seed to initialise the BitGenerator. If no seed is passed, then fresh, unpredictable entropy will be pulled from the OS.<SUP>1</SUP>"
   ]
  },
  {
   "cell_type": "code",
   "execution_count": 86,
   "metadata": {},
   "outputs": [],
   "source": [
    "# Construct a new Generator\n",
    "rng = np.random.default_rng()"
   ]
  },
  {
   "cell_type": "markdown",
   "metadata": {},
   "source": [
    "A function is defined to simulate flipping a coin 100 times. A variable is created to keep track of the number of \"head\" results and is initially set to 0. The ```numpy.random.binomial``` function draws samples from a binomial distribution. It takes two parameters: *n* trials and *p* probability of success where *n* is an integer $>= 0$ and *p* is in the interval [0,1].<SUP>2</SUP> In this case, ```n= 1``` and ```p= 0.5``` as there is a constant 50% chance of one flip landing on heads. The trials are independent, meaning that getting heads on one trial does not affect whether the result is heads on other trials.<SUP>3</SUP> If that is the case, the ```heads``` variable is incremented. The function then returns the final count.    "
   ]
  },
  {
   "cell_type": "code",
   "execution_count": 87,
   "metadata": {},
   "outputs": [],
   "source": [
    "# Define a function that flips a coin 100 times\n",
    "def flips_100():\n",
    "    # Create a variable to keep track of the number of heads\n",
    "    heads = 0\n",
    "    # Loop through 100 flips\n",
    "    for i in range(100):\n",
    "        # Return a value from 1 trial with 50% probability\n",
    "        coin_flip = rng.binomial(1, 0.5)\n",
    "        # Increment the count if the roll is equal to 1 (i.e. heads)\n",
    "        if coin_flip == 1:\n",
    "            heads += 1\n",
    "    # Return the final count\n",
    "    return heads"
   ]
  },
  {
   "cell_type": "markdown",
   "metadata": {},
   "source": [
    "The next step is to run this function 1000 times. An empty list is first created. This will be then populated as a *for* loop is used to run the ```flips_100()``` function 100 times and appends each result to the list."
   ]
  },
  {
   "cell_type": "code",
   "execution_count": 88,
   "metadata": {},
   "outputs": [],
   "source": [
    "# Create an empty list\n",
    "head_count = []\n",
    "# Run the defined function 1000 times\n",
    "for i in range(1000):\n",
    "    x = flips_100()\n",
    "    # Append the result to the list\n",
    "    head_count.append(x)    "
   ]
  },
  {
   "cell_type": "markdown",
   "metadata": {},
   "source": [
    "The code below prints out all 1000 results."
   ]
  },
  {
   "cell_type": "code",
   "execution_count": 89,
   "metadata": {},
   "outputs": [
    {
     "name": "stdout",
     "output_type": "stream",
     "text": [
      "[52, 43, 48, 59, 57, 51, 49, 55, 41, 53, 52, 45, 47, 50, 48, 47, 48, 43, 53, 45, 48, 58, 51, 49, 55, 50, 56, 44, 46, 39, 56, 52, 43, 57, 53, 48, 50, 54, 46, 53, 41, 41, 49, 58, 47, 49, 48, 39, 54, 52, 49, 53, 54, 50, 50, 52, 44, 58, 49, 43, 49, 53, 53, 48, 55, 42, 49, 38, 51, 47, 51, 55, 45, 52, 47, 47, 51, 46, 47, 55, 52, 50, 47, 51, 50, 45, 45, 54, 48, 50, 49, 42, 53, 58, 46, 40, 46, 53, 44, 44, 55, 54, 60, 48, 51, 55, 48, 52, 52, 53, 51, 52, 45, 56, 44, 50, 49, 45, 45, 43, 54, 53, 62, 45, 52, 43, 46, 54, 52, 56, 47, 45, 50, 51, 56, 48, 44, 43, 56, 47, 57, 42, 48, 54, 48, 52, 58, 64, 57, 50, 59, 51, 48, 52, 49, 43, 40, 41, 55, 44, 55, 45, 57, 50, 51, 52, 41, 52, 48, 53, 49, 51, 47, 39, 55, 46, 49, 57, 47, 52, 62, 55, 56, 57, 46, 43, 62, 53, 49, 53, 58, 47, 47, 50, 40, 48, 47, 61, 59, 48, 55, 59, 44, 59, 49, 55, 49, 54, 42, 53, 49, 50, 52, 58, 36, 54, 55, 47, 50, 54, 47, 50, 60, 51, 56, 56, 56, 57, 53, 50, 48, 49, 47, 40, 47, 52, 51, 51, 62, 48, 49, 50, 49, 51, 56, 58, 46, 50, 44, 58, 52, 56, 44, 44, 41, 48, 55, 57, 55, 48, 50, 54, 53, 58, 54, 50, 51, 37, 51, 52, 47, 54, 42, 50, 45, 53, 53, 52, 44, 50, 48, 46, 58, 44, 55, 54, 51, 45, 54, 50, 56, 44, 59, 52, 56, 50, 41, 50, 54, 57, 43, 44, 44, 50, 51, 49, 48, 46, 58, 62, 59, 47, 43, 51, 37, 44, 56, 54, 48, 51, 50, 62, 51, 49, 41, 62, 44, 47, 44, 47, 52, 44, 58, 53, 51, 51, 48, 54, 52, 42, 48, 50, 48, 48, 52, 47, 49, 54, 47, 51, 57, 39, 47, 45, 49, 52, 49, 56, 42, 56, 56, 51, 48, 46, 45, 46, 49, 52, 50, 48, 47, 54, 41, 47, 52, 61, 49, 42, 49, 46, 42, 50, 50, 52, 54, 52, 52, 55, 47, 44, 55, 47, 53, 39, 51, 55, 58, 53, 44, 40, 54, 47, 54, 54, 47, 43, 49, 50, 38, 52, 51, 56, 54, 46, 49, 48, 48, 42, 46, 47, 57, 50, 47, 39, 57, 52, 64, 50, 46, 51, 60, 41, 43, 47, 45, 55, 48, 50, 45, 42, 50, 51, 54, 52, 58, 53, 51, 54, 52, 50, 45, 47, 39, 45, 55, 46, 47, 48, 48, 45, 53, 55, 47, 51, 44, 49, 47, 51, 53, 52, 57, 44, 42, 45, 47, 55, 50, 50, 51, 48, 48, 53, 46, 55, 61, 44, 45, 42, 44, 48, 55, 57, 46, 52, 50, 43, 42, 53, 41, 52, 45, 57, 48, 52, 45, 48, 57, 42, 52, 49, 53, 49, 53, 53, 39, 47, 45, 59, 52, 40, 50, 47, 47, 55, 47, 52, 55, 58, 51, 43, 52, 57, 49, 52, 56, 54, 65, 46, 56, 51, 54, 46, 54, 52, 45, 53, 52, 56, 55, 54, 41, 47, 57, 48, 56, 43, 41, 49, 49, 57, 50, 46, 51, 57, 57, 51, 51, 53, 50, 50, 49, 53, 50, 46, 54, 43, 46, 52, 57, 43, 48, 53, 47, 51, 54, 52, 45, 50, 55, 44, 47, 42, 49, 50, 48, 46, 54, 46, 47, 60, 48, 45, 47, 44, 62, 46, 46, 49, 48, 47, 64, 46, 45, 52, 43, 53, 48, 56, 48, 47, 48, 51, 45, 48, 56, 57, 45, 50, 52, 43, 46, 48, 52, 56, 42, 49, 57, 53, 47, 45, 52, 54, 60, 55, 41, 47, 53, 52, 49, 50, 46, 48, 58, 49, 50, 53, 46, 57, 61, 57, 46, 63, 43, 49, 48, 53, 54, 50, 46, 57, 46, 46, 50, 47, 56, 52, 46, 46, 55, 44, 51, 52, 66, 56, 56, 46, 56, 58, 47, 49, 49, 57, 55, 46, 45, 44, 54, 61, 48, 57, 41, 44, 44, 56, 42, 47, 59, 47, 49, 48, 50, 43, 35, 51, 48, 52, 56, 41, 43, 41, 50, 51, 49, 48, 48, 48, 39, 42, 42, 51, 48, 42, 52, 45, 53, 51, 58, 43, 40, 52, 55, 43, 52, 50, 46, 54, 49, 48, 38, 63, 41, 51, 43, 43, 50, 45, 50, 49, 51, 41, 47, 50, 51, 56, 56, 56, 47, 45, 48, 45, 43, 48, 55, 46, 56, 41, 48, 53, 45, 55, 53, 50, 49, 45, 52, 59, 42, 57, 44, 51, 53, 51, 47, 56, 54, 50, 50, 40, 45, 50, 41, 48, 50, 47, 52, 48, 46, 44, 52, 48, 41, 48, 49, 57, 45, 62, 48, 50, 57, 60, 50, 43, 49, 51, 53, 56, 44, 46, 51, 49, 52, 54, 46, 48, 54, 51, 42, 50, 58, 50, 52, 48, 60, 50, 46, 52, 59, 42, 53, 47, 47, 56, 51, 43, 52, 57, 53, 46, 53, 44, 49, 50, 52, 58, 54, 56, 54, 48, 45, 48, 60, 49, 52, 48, 53, 55, 52, 46, 45, 56, 47, 50, 57, 53, 49, 51, 55, 54, 44, 54, 57, 54, 47, 53, 48, 48, 51, 53, 51, 44, 49, 50, 45, 49, 47, 47, 54, 44, 50, 53, 44, 50, 51, 49, 53, 47, 58, 62, 51, 56, 52, 54, 47, 53, 49, 52, 47, 55, 50, 44, 49, 46, 43, 58, 47, 48, 58, 49, 46, 45, 55, 52, 47, 49, 50, 58, 50, 56, 49, 46, 58, 50, 41, 56, 44, 57, 45, 51, 47, 43, 50, 41, 48, 45, 54, 51, 44, 47, 45, 44, 60, 52, 58, 59, 39, 50, 54, 43, 47, 57, 43, 46, 59, 42, 53, 48, 53, 49, 49, 57, 56, 43, 51, 52, 50, 55, 52, 48, 41, 37]\n"
     ]
    }
   ],
   "source": [
    "# Print the populated list\n",
    "print(head_count)"
   ]
  },
  {
   "cell_type": "markdown",
   "metadata": {},
   "source": [
    "The plot below illustrates the binomial distribution, with the mean indicated by a red line. This distribution is a common discrete distribution, as opposed to a continuous distribution, such as the normal distribution. This is because the binomial distribution only counts two states (i.e. success and failure).<SUP>4</SUP>"
   ]
  },
  {
   "cell_type": "code",
   "execution_count": 90,
   "metadata": {
    "scrolled": true
   },
   "outputs": [
    {
     "data": {
      "image/png": "[encoded data removed]",
      "text/plain": [
       "<Figure size 432x288 with 1 Axes>"
      ]
     },
     "metadata": {
      "needs_background": "light"
     },
     "output_type": "display_data"
    }
   ],
   "source": [
    "# Plot the list\n",
    "sns.distplot(head_count)\n",
    "plt.axvline(np.mean(head_count), color=\"red\")\n",
    "plt.xlabel(\"X\")\n",
    "plt.ylabel(\"Probability\")\n",
    "plt.title(\"Binomial Distribution\")\n",
    "plt.grid()"
   ]
  },
  {
   "cell_type": "markdown",
   "metadata": {},
   "source": [
    "### References\n",
    "\n",
    "1. NumPy, *Generator* [online] Available at: https://numpy.org/doc/stable/reference/random/generator.html\n",
    "\n",
    "2. Numpy, *numpy.random.binomial* [online] Available at: https://numpy.org/doc/stable/reference/random/generated/numpy.random.binomial.html\n",
    "\n",
    "3. Stat Trek, *Binomial Probability Distribution* [online] Available at: https://stattrek.com/probability-distributions/binomial.aspx\n",
    "\n",
    "4. Investopedia, *Binomial Distribution* [online] Available at: https://www.investopedia.com/terms/b/binomialdistribution.asp"
   ]
  }
 ],
 "metadata": {
  "kernelspec": {
   "display_name": "Python 3",
   "language": "python",
   "name": "python3"
  },
  "language_info": {
   "codemirror_mode": {
    "name": "ipython",
    "version": 3
   },
   "file_extension": ".py",
   "mimetype": "text/x-python",
   "name": "python",
   "nbconvert_exporter": "python",
   "pygments_lexer": "ipython3",
   "version": "3.8.3"
  }
 },
 "nbformat": 4,
 "nbformat_minor": 4
}

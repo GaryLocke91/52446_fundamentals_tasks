{
 "cells": [
  {
   "cell_type": "markdown",
   "metadata": {},
   "source": [
    "# Tasks\n",
    "***\n",
    "These are my solutions to the Tasks assessment. The author is Gary Locke (G00387882@gmit.ie)."
   ]
  },
  {
   "cell_type": "markdown",
   "metadata": {},
   "source": [
    "### Task 1\n",
    "***\n",
    "*Write a Python function called **counts** that takes a list as input and returns a dictionary of unique items in the list as keys and the number of times each item appears as values. So, the input ```['A', 'A', 'B', 'C', 'A']``` should have output ```{'A': 3, 'B': 1, 'C': 1}```. Your code should not depend on any module from the standard library or otherwise. You should research the task first and include a description with references of your algorithm in the notebook.*"
   ]
  },
  {
   "cell_type": "markdown",
   "metadata": {},
   "source": [
    "#### Description\n",
    "\n",
    "Both lists and dictionaries are mutable data structures containing one or more data points, and can be nested inside a list or a dictionary. They do not have to be homogenous, so they can contain number, string and Boolean values. The primary difference between them is that lists are ordered and dictionaries are not. For example, ```list[0]``` refers to the first element in the list while ```dict[0]``` refers to the key value and returns the corresponding value. [1][2]\n",
    "\n",
    "The first step is to create an empty list and dictionary. To maintain consistency, a for loop is used to convert any string items to uppercase using the ```upper()``` function, which are then appended to the new list. [3][4] The dictionary is then populated by using a for loop to iterate over each item in the new list. [5] When iterating over each item, the ```isinstance()``` function is used to determine if the item is a list or a tuple. [6] If the item is a list or a tuple, a for loop is used to iterate over each item. If the item is not in the dictionary, the value is incremented. If otherwise, the value is set to 1.\n",
    "\n",
    "One limitation of the ```count()``` function is in relation to counting Boolean values. ```True``` is a built-in enumeration with a value of 1. Thus, the hash function sees ```True``` as ```1``` and vice versa depending on which one appears in the list first. [7]"
   ]
  },
  {
   "cell_type": "code",
   "execution_count": 22,
   "metadata": {},
   "outputs": [],
   "source": [
    "# Create a list\n",
    "lst = ['A', 'A', 'B', 'C', 'A']"
   ]
  },
  {
   "cell_type": "code",
   "execution_count": 23,
   "metadata": {
    "scrolled": true
   },
   "outputs": [],
   "source": [
    "# Define the function\n",
    "def counts(lst):\n",
    "    # Create an empty list and dictionary\n",
    "    upper_lst, dict = [], {}\n",
    "    \n",
    "    # Loop through each item in the list\n",
    "    for i in lst:\n",
    "        # Check if i is a string\n",
    "        if isinstance(i, str):\n",
    "            # Convert i to uppercase\n",
    "            i = i.upper()\n",
    "            # Append i to list\n",
    "            upper_lst.append(i)\n",
    "        else:\n",
    "            # Append i to list\n",
    "            upper_lst.append(i)\n",
    "            \n",
    "    # Loop through each item in the list\n",
    "    for i in upper_lst:\n",
    "        # Check if i is a list\n",
    "        if isinstance(i, (list, tuple)):\n",
    "            # Loop through each item in the list or tuple\n",
    "            for x in i:\n",
    "                # Increment value if already in the dictionary\n",
    "                if x in dict:\n",
    "                    dict[x] += 1\n",
    "                # Set the value as 1 if not in the dictionary\n",
    "                else:\n",
    "                    dict[x] = 1        \n",
    "        # Increment value if already in the dictionary\n",
    "        elif i in dict:\n",
    "            dict[i] += 1\n",
    "        # Set the value as 1 if not in the dictionary\n",
    "        else:\n",
    "            dict[i] = 1\n",
    "    \n",
    "    # Return the dictionary\n",
    "    return dict"
   ]
  },
  {
   "cell_type": "code",
   "execution_count": 24,
   "metadata": {},
   "outputs": [
    {
     "data": {
      "text/plain": [
       "{'A': 3, 'B': 1, 'C': 1}"
      ]
     },
     "execution_count": 24,
     "metadata": {},
     "output_type": "execute_result"
    }
   ],
   "source": [
    "# Call the function\n",
    "counts(lst)"
   ]
  },
  {
   "cell_type": "markdown",
   "metadata": {},
   "source": [
    "#### References\n",
    "\n",
    "[1] Real Python, *Dictionaries in Python* [online] Available at: https://realpython.com/python-dicts/\n",
    "\n",
    "[2] Python, *Data structures* [online] Available at: https://docs.python.org/3/tutorial/datastructures.html\n",
    "\n",
    "[3] GeeksforGeeks, *Check if a variable is string* [online] Available at: https://www.geeksforgeeks.org/python-check-if-a-variable-is-string/\n",
    "\n",
    "[4] w3resource, *Convert a string to all uppercase* [online] Available at: https://www.w3resource.com/python-exercises/string/python-data-type-string-exercise-21.php\n",
    "\n",
    "[5] Stack Overflow, *Using a dictionary to count the items in a list* [online] Available at: https://stackoverflow.com/questions/3496518/using-a-dictionary-to-count-the-items-in-a-list\n",
    "\n",
    "[6] PYnative, *Python isinstance() explained with examples* [online] Available at: https://pynative.com/python-isinstance-explained-with-examples/\n",
    "\n",
    "[7] Stack Overflow, *Boolean keys with other data types in dictionary* [online] Available at: https://stackoverflow.com/questions/44185741/boolean-keys-with-other-data-types-in-dictionary"
   ]
  },
  {
   "cell_type": "markdown",
   "metadata": {},
   "source": [
    "<br>\n",
    "\n",
    "### Task 2\n",
    "***\n",
    "*Write a Python function called **dicerolls** that simulates rolling dice. Your function should take two parameters: the number of dice k and the number of times to roll the dice n. The function should simulate randomly rolling k dice n times, keeping track of each total face value. It should then return a dictionary with the number of times each possible total face value occurred. So, calling the function as diceroll(k=2, n=1000) should return a dictionary like:*\n",
    "\n",
    "```{2:19,3:50,4:82,5:112,6:135,7:174,8:133,9:114,10:75,11:70,12:36}```\n",
    "\n",
    "*You can use any module from the Python standard library you wish and you should include a description with references of your algorithm in the notebook.*"
   ]
  },
  {
   "cell_type": "markdown",
   "metadata": {},
   "source": [
    "#### Description\n",
    "\n",
    "The first step is to import any required libraries. The NumPy library is required to generate pseudorandom numbers using the numpy.random package."
   ]
  },
  {
   "cell_type": "code",
   "execution_count": null,
   "metadata": {},
   "outputs": [],
   "source": [
    "# Import the NumPy library\n",
    "import numpy as np"
   ]
  },
  {
   "cell_type": "markdown",
   "metadata": {},
   "source": [
    "The ```default_rng()``` function below constructs a new Generator. It takes one parameter, which creates a seed to initialise the BitGenerator. If no seed is passed, then fresh, unpredictable entropy will be pulled from the OS. [1] The ```integers()``` function is used to assign a random integer to the two variables, which are to be used as parameters by the ```dicerolls()``` function. It returns random integers from *low* (inclusive) to *high* (exclusive), or if ```endpoint=True```, *low* (inclusive) to *high* (inclusive). [2]"
   ]
  },
  {
   "cell_type": "code",
   "execution_count": 28,
   "metadata": {},
   "outputs": [
    {
     "name": "stdout",
     "output_type": "stream",
     "text": [
      "Number of dice:  8 \n",
      "Number of rolls:  916\n"
     ]
    }
   ],
   "source": [
    "# Construct a new Generator\n",
    "rng = np.random.default_rng()\n",
    "# Assign a random integer to the \"k\" and \"n\" variables\n",
    "k, n = rng.integers(1, 10, endpoint=True), rng.integers(1, 1000, endpoint=True)\n",
    "# Print the number of dice and number of rolls\n",
    "print(\"Number of dice: \", k, \"\\nNumber of rolls: \", n)"
   ]
  },
  {
   "cell_type": "markdown",
   "metadata": {},
   "source": [
    "In defining the function, an empty dictionary ```face_vals``` is created, which will store the number of times each possible total face value occurred. As the range of face values is dependent on the number of dice, the value of *k* is stored as the lowest possible value in variable ```range_low``` (e.g. if three dice are thrown, then three is the lowest possible face value). As there are six numbers on a dice, the highest possible value would be 6 multiplied by the number of dice thrown. This value is stored in the variable ```range_high```.\n",
    "\n",
    "The next step is to iterate through the number of dice used using the ```range()``` function. Within this loop, another for loop is used to iterate through each roll. The ```integers()``` function is used to generate a random number between the lowest and highest possible values and store it in variable ```x```. As ```endpoint=True```, the value of ```range_high``` is inclusive. An *if* and *else* statement is used to check whether the face value is already in the dictionary. If it is, the value is incremented. Otherwise, its value is set to 1.\n",
    "\n",
    "Once the dictionary has been populated, the ```sorted()``` function is used to sort the dictionary by key. The ```face_vals.items()``` method returns a list of tuples comprising the keys and their corresponding value. The ```lambda``` function returnes the key for a specific item tuple. [3]"
   ]
  },
  {
   "cell_type": "code",
   "execution_count": 26,
   "metadata": {},
   "outputs": [],
   "source": [
    "# Define function\n",
    "def dicerolls(k, n):\n",
    "    # Create an empty dictionary\n",
    "    face_vals = {}\n",
    "    # Set the value of \"k\" as the lowest possible face value\n",
    "    range_low = k\n",
    "    # Set the value of \"k\" multiplied by 6 as the highest possible face value\n",
    "    range_high = k*6\n",
    "    # Loop through each dice\n",
    "    for dice in range(k):\n",
    "        # Loop through each roll\n",
    "        for roll in range(n):\n",
    "            # Generate a random integer and store it in a variable\n",
    "            x = rng.integers(range_low, range_high, endpoint=True)\n",
    "            # Increment value if already in the dictionary\n",
    "            if x in face_vals:\n",
    "                face_vals[x] += 1\n",
    "            # Set the value as 1 if not in the dictionary    \n",
    "            else:\n",
    "                face_vals[x] = 1   \n",
    "    \n",
    "    # Return a sorted dictionary\n",
    "    return dict(sorted(face_vals.items(), key=lambda x: x[0]))"
   ]
  },
  {
   "cell_type": "markdown",
   "metadata": {},
   "source": [
    "When calling the ```dicerolls()``` function, it returns a sorted dictionary."
   ]
  },
  {
   "cell_type": "code",
   "execution_count": 27,
   "metadata": {},
   "outputs": [
    {
     "data": {
      "text/plain": [
       "{2: 10,\n",
       " 3: 17,\n",
       " 4: 22,\n",
       " 5: 13,\n",
       " 6: 25,\n",
       " 7: 19,\n",
       " 8: 15,\n",
       " 9: 29,\n",
       " 10: 17,\n",
       " 11: 15,\n",
       " 12: 18}"
      ]
     },
     "execution_count": 27,
     "metadata": {},
     "output_type": "execute_result"
    }
   ],
   "source": [
    "# Call the function\n",
    "dicerolls(k, n)"
   ]
  },
  {
   "cell_type": "markdown",
   "metadata": {},
   "source": [
    "#### References\n",
    "\n",
    "[1] NumPy, *Generator* [online] Available at: https://numpy.org/doc/stable/reference/random/generator.html\n",
    "\n",
    "[2] Numpy, *numpy.random.Generator.integers* [online] Available at: https://numpy.org/doc/stable/reference/random/generated/numpy.random.Generator.integers.html\n",
    "\n",
    "[3] JournalDev, *Sorting a dictionary* [online] Available at: https://www.journaldev.com/38407/sort-a-dictionary-in-python"
   ]
  },
  {
   "cell_type": "markdown",
   "metadata": {},
   "source": [
    "<br>\n",
    "\n",
    "### Task 3\n",
    "***\n",
    "*The numpy.random.binomial function can be used to simulate flipping a coin with a 50/50 chance of heads or tails. Interestingly, if a coin is flipped many times then the number of heads is well approximated by a bell-shaped curve. For instance, if we flip a coin 100 times in a row the chance of getting 50 heads is relatively high, the chances of getting 0 or 100 heads is relatively low, and the chances of getting any other number of heads decreases as you move away from 50 in either direction towards 0 or 100. Write some python code that simulates flipping a coin 100 times. Then run this code 1,000 times, keeping track of the number of heads in each of the 1,000 simulations. Select an appropriate plot to depict the resulting list of 1,000 numbers, showing that it roughly follows a bell-shaped curve. You should explain your work in a Markdown cell above the code.*"
   ]
  },
  {
   "cell_type": "code",
   "execution_count": 1,
   "metadata": {},
   "outputs": [],
   "source": [
    "# Import the NumPy library\n",
    "import numpy as np"
   ]
  },
  {
   "cell_type": "code",
   "execution_count": 2,
   "metadata": {},
   "outputs": [],
   "source": [
    "# Construct a new Generator\n",
    "rng = np.random.default_rng()"
   ]
  },
  {
   "cell_type": "code",
   "execution_count": 10,
   "metadata": {},
   "outputs": [
    {
     "name": "stdout",
     "output_type": "stream",
     "text": [
      "1\n"
     ]
    }
   ],
   "source": [
    "n = 1\n",
    "p = 0.5\n",
    "a = rng.binomial( 1, 0.5)\n",
    "print(a)"
   ]
  }
 ],
 "metadata": {
  "kernelspec": {
   "display_name": "Python 3",
   "language": "python",
   "name": "python3"
  },
  "language_info": {
   "codemirror_mode": {
    "name": "ipython",
    "version": 3
   },
   "file_extension": ".py",
   "mimetype": "text/x-python",
   "name": "python",
   "nbconvert_exporter": "python",
   "pygments_lexer": "ipython3",
   "version": "3.8.3"
  }
 },
 "nbformat": 4,
 "nbformat_minor": 4
}
